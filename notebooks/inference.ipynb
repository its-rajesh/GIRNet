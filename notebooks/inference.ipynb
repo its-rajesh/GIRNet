{
 "cells": [
  {
   "cell_type": "markdown",
   "metadata": {},
   "source": [
    "# GIRNet — Inference\\n",
    "\\n",
    "Minimal notebook to run inference on test mixtures.\\n",
    "\\n",
    "> Assumes you trained and saved the full model to `results/girnet_model.h5`.\\n",
    "> If you saved **weights only**, see the second code cell."
   ]
  },
  {
   "cell_type": "code",
   "execution_count": null,
   "metadata": {},
   "outputs": [],
   "source": [
    "import numpy as np\\n",
    "from tensorflow.keras.models import load_model\\n",
    "from spektral.layers import GATConv\\n",
    "from GAT import GraphAttentionLayer  # custom layer used in GIRNet\\n",
    "\\n",
    "MODEL_PATH = \"results/girnet_model.h5\"     # change if needed\\n",
    "X_TEST     = \"CM_Xtest.npy\"                # change if needed\\n",
    "OUT_NPY    = \"Y_hat.npy\"\\n",
    "\\n",
    "# Load full model\\n",
    "model = load_model(\\n",
    "    MODEL_PATH,\\n",
    "    custom_objects={\"GraphAttentionLayer\": GraphAttentionLayer, \"GATConv\": GATConv}\\n",
    ")\\n",
    "\\n",
    "# Load test mixtures\\n",
    "X = np.load(X_TEST)\\n",
    "if X.ndim == 3:  # [N, C, T] -> [N, C, T, 1]\\n",
    "    X = X[..., None]\\n",
    "\\n",
    "# Predict\\n",
    "Y_hat = model.predict(X, batch_size=1)\\n",
    "np.save(OUT_NPY, Y_hat)\\n",
    "print(\"Saved:\", OUT_NPY, Y_hat.shape)"
   ]
  },
  {
   "cell_type": "markdown",
   "metadata": {},
   "source": [
    "### If you only saved weights\\n",
    "Rebuild the model and load weights:"
   ]
  },
  {
   "cell_type": "code",
   "execution_count": null,
   "metadata": {},
   "outputs": [],
   "source": [
    "import numpy as np\\n",
    "from GAT import build_girnet_model\\n",
    "\\n",
    "WEIGHTS = \"GAT_weights.h5\"\\n",
    "DIM     = 1024   # <- same as used for training (--dim)\\n",
    "C       = 4      # <- number of channels used in training\\n",
    "THRESH  = 0.6    # <- same as used for training\\n",
    "\\n",
    "model = build_girnet_model(input_shape=DIM, channels=C, threshold=THRESH)\\n",
    "model.load_weights(WEIGHTS)\\n",
    "\\n",
    "X = np.load(\"CM_Xtest.npy\")\\n",
    "if X.ndim == 3:\\n",
    "    X = X[..., None]\\n",
    "Y_hat = model.predict(X, batch_size=1)\\n",
    "np.save(\"Y_hat.npy\", Y_hat)\\n",
    "print(\"Saved: Y_hat.npy\", Y_hat.shape)"
   ]
  },
  {
   "cell_type": "markdown",
   "metadata": {},
   "source": [
    "*(Optional)* Save WAVs using `soundfile` after any post-processing you choose."
   ]
  },
  {
   "cell_type": "code",
   "execution_count": null,
   "metadata": {},
   "outputs": [],
   "source": [
    "# Optional: write first example to WAV per channel\\n",
    "import soundfile as sf\\n",
    "import os\\n",
    "\\n",
    "sr = 22050  # or 44100, depending on your data\\n",
    "os.makedirs(\"pred_wavs\", exist_ok=True)\\n",
    "\\n",
    "# Y_hat shape typically [N, C, T, 1]\\n",
    "y = np.squeeze(Y_hat[0], axis=-1)  # [C, T]\\n",
    "for ch in range(y.shape[0]):\\n",
    "    sf.write(f\"pred_wavs/example_ch{ch}.wav\", y[ch], sr)\\n",
    "print(\"Wrote WAVs to pred_wavs/\")"
   ]
  }
 ],
 "metadata": {
  "kernelspec": {
   "display_name": "Python 3",
   "language": "python",
   "name": "python3"
  },
  "language_info": {
   "name": "python",
   "version": "3.8"
  }
 },
 "nbformat": 4,
 "nbformat_minor": 5
}
